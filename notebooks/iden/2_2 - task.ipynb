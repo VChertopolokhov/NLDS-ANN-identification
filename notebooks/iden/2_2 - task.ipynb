{
 "metadata": {
  "language_info": {
   "codemirror_mode": {
    "name": "ipython",
    "version": 3
   },
   "file_extension": ".py",
   "mimetype": "text/x-python",
   "name": "python",
   "nbconvert_exporter": "python",
   "pygments_lexer": "ipython3",
   "version": "3.7.2-final"
  },
  "orig_nbformat": 2,
  "kernelspec": {
   "name": "python3",
   "display_name": "Python 3",
   "language": "python"
  }
 },
 "nbformat": 4,
 "nbformat_minor": 2,
 "cells": [
  {
   "cell_type": "code",
   "execution_count": 11,
   "metadata": {},
   "outputs": [],
   "source": [
    "import numpy as np\n",
    "\n",
    "from tqdm import tqdm\n",
    "\n",
    "from autograd import elementwise_grad as egrad\n",
    "from autograd import jacobian\n",
    "import autograd.numpy as np_\n",
    "\n",
    "import matplotlib.pyplot as plt"
   ]
  },
  {
   "cell_type": "code",
   "execution_count": 4,
   "metadata": {},
   "outputs": [],
   "source": [
    "m = 1\n",
    "n = 3\n",
    "Tf = 100 \n",
    "Delta_T = 0.0001\n",
    "\n",
    "TimeSpan = np.arange(0, Tf, Delta_T)\n",
    "nt = TimeSpan.shape[0] # mt do not use in python \n",
    "\n",
    "u = np.zeros((nt,m))\n",
    "x = np.zeros((nt,n))"
   ]
  },
  {
   "cell_type": "code",
   "execution_count": 5,
   "metadata": {},
   "outputs": [],
   "source": [
    "for j in range(n):\n",
    "    x[0][j] = 2*(j+1)\n",
    "\n",
    "A_s = 0.001 * np.diag([-5,-7,-6])\n",
    "B = np.array([0, 0, 1])#.reshape(-3, 1)\n",
    "\n",
    "for i in range(nt-1):\n",
    "    u[i] = 500 * np.sin(0.00004*i) * np.cos(0.000009*i+1.15)\n",
    "\n",
    "    x[i+1][:] = x[i][:] + Delta_T * ( np.matmul(A_s, x[i][:]) + B * u[i] + np.random.random_sample(3) * np.array([70, 80, 90]) )"
   ]
  },
  {
   "cell_type": "code",
   "execution_count": 6,
   "metadata": {},
   "outputs": [],
   "source": [
    "C_ = 0.1 * np.array([1, 1, 1]).reshape(-3,1)\n",
    "\n",
    "def sigma_1(x):\n",
    "    return (1 / (1 + 0.22 * np_.exp(-0.2 * np_.matmul(x, C_))) - 0.3)\n",
    "\n",
    "def sigma_2(x):\n",
    "    return (1 / (1 + 0.2 * np_.exp(-0.2 * np_.matmul(x, C_))) - 0.2)\n",
    "\n",
    "def calc_Hes(sigma, x):\n",
    "    H_sigma = jacobian(egrad(sigma))\n",
    "    length = x.shape[0]\n",
    "    H_arr = np.full(x.shape[0] * 9, -1.0).reshape(-3, 3, 3)\n",
    "\n",
    "    \n",
    "    for i in tqdm(range(length)):\n",
    "        H = H_sigma(x[i])\n",
    "\n",
    "        # H_arr[i][:] = H[:] - check result\n",
    "        H_arr[i,:,:] = H[:,:]\n",
    "\n",
    "    return H_arr\n",
    "\n",
    "def calc_norms(Hessians):\n",
    "\n",
    "    length = Hessians.shape[0]\n",
    "    norms = np.ones(length) \n",
    "\n",
    "    for i in range(length):\n",
    "        norm = np.linalg.norm(Hessians[i])\n",
    "        norms[i] = norm \n",
    "\n",
    "    return norms\n",
    "\n",
    "def max_H(Hessians, norms):\n",
    "    max_index = np.argmax(norms)\n",
    "    \n",
    "    return Hessians[max_index]"
   ]
  },
  {
   "cell_type": "code",
   "execution_count": 7,
   "metadata": {},
   "outputs": [],
   "source": [
    "u = np.zeros((nt,m))\n",
    "x = np.zeros((nt,n))"
   ]
  },
  {
   "cell_type": "code",
   "execution_count": 17,
   "metadata": {},
   "outputs": [],
   "source": [
    "#hes_1 = find_Hes(sigma_1, x)\n",
    "#np.save('hes_1.npy', hes_1)\n",
    "hes_1 = np.load('hes_1.npy')"
   ]
  },
  {
   "cell_type": "code",
   "execution_count": 20,
   "metadata": {},
   "outputs": [],
   "source": [
    "#hes_2 = find_Hes(sigma_2, x)\n",
    "#np.save('hes_2.npy', hes_2) \n",
    "hes_2 = np.load('hes_2.npy')"
   ]
  },
  {
   "cell_type": "code",
   "execution_count": 21,
   "metadata": {},
   "outputs": [],
   "source": [
    "norms_1 = calc_norms(hes_1)\n",
    "norms_2 = calc_norms(hes_2)"
   ]
  },
  {
   "cell_type": "code",
   "execution_count": 22,
   "metadata": {},
   "outputs": [],
   "source": [
    "est_1 = max_H(hes_1, norms_1)\n",
    "est_2 = max_H(hes_2, norms_2)"
   ]
  },
  {
   "cell_type": "code",
   "execution_count": 23,
   "metadata": {},
   "outputs": [
    {
     "output_type": "execute_result",
     "data": {
      "text/plain": [
       "(array([[-3.54624207e-05, -3.54624207e-05, -3.54624207e-05],\n",
       "        [-3.54624207e-05, -3.54624207e-05, -3.54624207e-05],\n",
       "        [-3.54624207e-05, -3.54624207e-05, -3.54624207e-05]]),\n",
       " array([[-3.4209953e-05, -3.4209953e-05, -3.4209953e-05],\n",
       "        [-3.4209953e-05, -3.4209953e-05, -3.4209953e-05],\n",
       "        [-3.4209953e-05, -3.4209953e-05, -3.4209953e-05]]))"
      ]
     },
     "metadata": {},
     "execution_count": 23
    }
   ],
   "source": [
    "est_1, est_2"
   ]
  },
  {
   "cell_type": "code",
   "execution_count": null,
   "metadata": {},
   "outputs": [],
   "source": []
  }
 ]
}